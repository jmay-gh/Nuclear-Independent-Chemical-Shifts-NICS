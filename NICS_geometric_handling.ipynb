{
 "cells": [
  {
   "attachments": {},
   "cell_type": "markdown",
   "metadata": {},
   "source": [
    "Import packages"
   ]
  },
  {
   "cell_type": "code",
   "execution_count": 196,
   "metadata": {},
   "outputs": [],
   "source": [
    "import numpy as np\n",
    "import scipy as sp\n",
    "import networkx as nx"
   ]
  },
  {
   "cell_type": "markdown",
   "metadata": {},
   "source": [
    "Set file path"
   ]
  },
  {
   "cell_type": "code",
   "execution_count": 197,
   "metadata": {},
   "outputs": [],
   "source": [
    "input_directory_path = 'neutral/PTH_polythiophene/coords/'\n",
    "input_file_name = '16n_RuCap_PTH_opt.xyz'\n",
    "base_file_name ='16n_RuCap_PTH_NICS_{}'"
   ]
  },
  {
   "attachments": {},
   "cell_type": "markdown",
   "metadata": {},
   "source": [
    "Open coordinates files and put the atoms coordinates into an array"
   ]
  },
  {
   "cell_type": "code",
   "execution_count": 198,
   "metadata": {},
   "outputs": [],
   "source": [
    "# Open file\n",
    "with open(input_directory_path + input_file_name) as f: # Insert file path (this one should work)   \n",
    "    lines = f.readlines()\n",
    "\n",
    "# Make list of file and cut first 2 lines (atom number)\n",
    "coords = []\n",
    "atoms = []\n",
    "for line in lines[2:]:\n",
    "    if line.strip():  # Skip empty lines\n",
    "        atoms.append(line.split()[0])\n",
    "        coords.append(line.split()[1:])\n",
    "\n",
    "\n",
    "# Make array of list and convert to floats\n",
    "output_array = []\n",
    "for coord in coords:\n",
    "    if coord:  # Skip empty elements\n",
    "        output_array.append([float(coord[0]), float(coord[1]), float(coord[2])])\n",
    "    else:\n",
    "        break\n",
    "\n",
    "# Convert coordinates to numpy array\n",
    "all_coords = np.array(output_array)"
   ]
  },
  {
   "attachments": {},
   "cell_type": "markdown",
   "metadata": {},
   "source": [
    "Define function to calculate distances and create distance matrix of all the atoms in the molecule"
   ]
  },
  {
   "cell_type": "code",
   "execution_count": 199,
   "metadata": {},
   "outputs": [],
   "source": [
    "# Define function to calculate distance between 2 points\n",
    "def distance(point1, point2):\n",
    "    return np.sqrt(np.sum((point1 - point2)**2))\n",
    "\n",
    "# Get number of points needed in array\n",
    "n_atoms = len(all_coords)\n",
    "\n",
    "# Make empty distance matrix, n_atoms^2 in size\n",
    "dist_matrix = np.zeros((n_atoms, n_atoms))\n",
    "\n",
    "# Loop through each pair of points and calculate distance\n",
    "for i in range(n_atoms):\n",
    "    for j in range(i, n_atoms):\n",
    "        dist_matrix[i,j] = distance(all_coords[i], all_coords[j])\n",
    "        dist_matrix[j,i] = dist_matrix[i,j]  # Fill out matrix since distance matrices are symmetric"
   ]
  },
  {
   "attachments": {},
   "cell_type": "markdown",
   "metadata": {},
   "source": [
    "Specify bond length and convert the distance matrix into an adjacency matrix"
   ]
  },
  {
   "cell_type": "code",
   "execution_count": 200,
   "metadata": {},
   "outputs": [],
   "source": [
    "bond_len = 2  # Bond length threshold\n",
    "adj_matrix = np.zeros((n_atoms, n_atoms)) # Make empty adjacency matrix, n_atoms^2 in size\n",
    "for i in range(n_atoms):\n",
    "    for j in range(i+1, n_atoms):\n",
    "        if dist_matrix[i,j] < bond_len:\n",
    "            adj_matrix[i,j] = adj_matrix[j,i] = 1"
   ]
  },
  {
   "cell_type": "markdown",
   "metadata": {},
   "source": [
    "Create a list of arrays of the atom numbers of all the cycles in the adjacency matrix and find planes of the cycles"
   ]
  },
  {
   "cell_type": "code",
   "execution_count": 201,
   "metadata": {},
   "outputs": [],
   "source": [
    "# Produce a list of arrays of the atom numbers of the atoms in cycles in the molecule\n",
    "cycles = [c for c in nx.cycle_basis(nx.from_numpy_array(adj_matrix)) if len(c)>=5]"
   ]
  },
  {
   "cell_type": "code",
   "execution_count": 202,
   "metadata": {},
   "outputs": [],
   "source": [
    "# Produce a list of arrays of the atom numbers of the atoms in cycles in the molecule\n",
    "cycles = [c for c in nx.cycle_basis(nx.from_numpy_array(adj_matrix)) if len(c)>=5]\n",
    "\n",
    "# for c in cycles:\n",
    "#     print(np.sort(np.array(c)+1))\n",
    "\n",
    "def find_planes(cycles, all_coords):\n",
    "    normals = []  ## MDP\n",
    "    centroids = []\n",
    "\n",
    "    for atoms in cycles:\n",
    "        ring_coords = all_coords[atoms]\n",
    "        centroid = np.average(ring_coords,axis=0)\n",
    "        ring_coords = ring_coords-centroid\n",
    "        u,s,v = np.linalg.svd(ring_coords)\n",
    "\n",
    "        normal = v[2,:]\n",
    "\n",
    "        normals.append(normal)\n",
    "        centroids.append(centroid)\n",
    "\n",
    "    return normals,centroids ## MDP\n",
    "\n",
    "normals,centroids=find_planes(cycles, all_coords) ## MDP\n"
   ]
  },
  {
   "cell_type": "markdown",
   "metadata": {},
   "source": []
  },
  {
   "cell_type": "code",
   "execution_count": 203,
   "metadata": {},
   "outputs": [],
   "source": [
    "rotated_coords = []\n",
    "\n",
    "def rotate_molecule(all_coords, normals, centroids,centroidAtOrigin=False):\n",
    "    z = np.array([0,0,1.])\n",
    "    rotated_coords=[]\n",
    "    for ii,nn in enumerate(normals):\n",
    "        # from https://stackoverflow.com/questions/45142959/calculate-rotation-matrix-to-align-two-vectors-in-3d-space?noredirect=1&lq=1\n",
    "        \n",
    "\n",
    "        a, b = (nn / np.linalg.norm(nn)).reshape(3), (z / np.linalg.norm(z)).reshape(3)\n",
    "        v = np.cross(a, b)\n",
    "        c = np.dot(a, b)\n",
    "        s = np.linalg.norm(v)\n",
    "        kmat = np.array([[0, -v[2], v[1]], [v[2], 0, -v[0]], [-v[1], v[0], 0]])\n",
    "        rotmat = np.eye(3) + kmat + kmat.dot(kmat) * ((1 - c) / (s ** 2))\n",
    "\n",
    "        \n",
    "        cc = all_coords - centroids[ii]\n",
    "\n",
    "        if centroidAtOrigin:\n",
    "            new_coords = np.dot(rotmat,cc.T).T\n",
    "        else:\n",
    "            new_coords = np.dot(rotmat,cc.T).T + centroids[ii]\n",
    "        rotated_coords.append(new_coords)\n",
    "\n",
    "    return rotated_coords\n",
    "\n",
    "rotated_coords= rotate_molecule(all_coords, normals, centroids, centroidAtOrigin=True)\n",
    "\n",
    "\n",
    "def makeXYZ(atoms,coords):\n",
    "    xyz=[]\n",
    "    for ii,cc in enumerate(coords):\n",
    "        xyz.append(atoms[ii]+\" {} {} {}\".format(*cc))\n",
    "    \n",
    "    return '\\n'.join(xyz)\n",
    "\n",
    "\n",
    "for ii,coords in enumerate(rotated_coords):\n",
    "    with open(input_directory_path + base_file_name.format(ii) + '.com', 'w') as f:\n",
    "        f.writelines([\n",
    "            \"%chk={}.chk\\n\".format(base_file_name.format(ii)),\n",
    "            \"%nprocshared=8\",'\\n',\n",
    "            \"%mem=60GB\",'\\n', \n",
    "            \"#p nmr=giao b1lyp def2svp iop(3/76=1000003500,3/77=0650006500,3/78=1000010000)\",'\\n\\n', \n",
    "            \"NICS calculations on neutral oligomers, Cycle: \" + str(np.sort(np.array(cycles[ii])+1)), '\\n\\n', \n",
    "            \"0 1\", '\\n'])\n",
    "        f.writelines(makeXYZ(atoms,coords))\n",
    "        f.writelines([\"\\n\",\"Bq 0.0 0.0 1.0\",\"\\n\\n\\n\\n\\n\\n\\n\\n\\n\\n\\n\\n\\n\\n\\n\\n\\n\\n\" ])\n"
   ]
  }
 ],
 "metadata": {
  "kernelspec": {
   "display_name": "base",
   "language": "python",
   "name": "python3"
  },
  "language_info": {
   "codemirror_mode": {
    "name": "ipython",
    "version": 3
   },
   "file_extension": ".py",
   "mimetype": "text/x-python",
   "name": "python",
   "nbconvert_exporter": "python",
   "pygments_lexer": "ipython3",
   "version": "3.10.9"
  },
  "orig_nbformat": 4
 },
 "nbformat": 4,
 "nbformat_minor": 2
}
