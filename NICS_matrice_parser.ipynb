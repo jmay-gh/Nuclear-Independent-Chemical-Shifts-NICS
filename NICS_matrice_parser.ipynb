{
 "cells": [
  {
   "attachments": {},
   "cell_type": "markdown",
   "metadata": {},
   "source": [
    "Import packages"
   ]
  },
  {
   "cell_type": "code",
   "execution_count": 57,
   "metadata": {},
   "outputs": [],
   "source": [
    "import re\n",
    "from glob import glob\n",
    "import numpy as np\n",
    "import os"
   ]
  },
  {
   "attachments": {},
   "cell_type": "markdown",
   "metadata": {},
   "source": [
    "Import the log files to parse for and name them for the plot"
   ]
  },
  {
   "cell_type": "code",
   "execution_count": 58,
   "metadata": {},
   "outputs": [
    {
     "name": "stdout",
     "output_type": "stream",
     "text": [
      "['neutral/PTH_polythiophene\\\\01n_RuCap_PTH_NICS_0.log', 'neutral/PTH_polythiophene\\\\01n_RuCap_PTH_NICS_1.log', 'neutral/PTH_polythiophene\\\\01n_RuCap_PTH_NICS_2.log']\n"
     ]
    }
   ],
   "source": [
    "# List of filenames to process\n",
    "log_files = glob(\"neutral/PTH_polythiophene/01n_RuCap_PTH_NICS_*.log\")"
   ]
  },
  {
   "cell_type": "markdown",
   "metadata": {},
   "source": [
    "Sort by distance from Ru atom"
   ]
  },
  {
   "cell_type": "code",
   "execution_count": 59,
   "metadata": {},
   "outputs": [
    {
     "name": "stdout",
     "output_type": "stream",
     "text": [
      "01n_RuCap_PTH_NICS_2.log\n",
      "01n_RuCap_PTH_NICS_0.log\n",
      "01n_RuCap_PTH_NICS_1.log\n",
      "['neutral/PTH_polythiophene\\\\01n_RuCap_PTH_NICS_2.log', 'neutral/PTH_polythiophene\\\\01n_RuCap_PTH_NICS_0.log', 'neutral/PTH_polythiophene\\\\01n_RuCap_PTH_NICS_1.log']\n"
     ]
    }
   ],
   "source": [
    "def find_ru_coordinates(logfile):\n",
    "    with open(logfile, 'r') as file:\n",
    "        log_text = file.read()\n",
    "\n",
    "    # Define regex pattern to extract Ru coordinates\n",
    "    pattern = r'Ru\\s+([-+]?\\d*\\.\\d+\\s+[-+]?\\d*\\.\\d+\\s+[-+]?\\d*\\.\\d+)'\n",
    "\n",
    "    # Search for Ru coordinates\n",
    "    match = re.search(pattern, log_text)\n",
    "    if match:\n",
    "        coordinates = [float(coord) for coord in match.group(1).split()]\n",
    "        return np.array(coordinates)\n",
    "    else:\n",
    "        return None\n",
    "\n",
    "def distance_from_origin(coordinates):\n",
    "    return np.linalg.norm(coordinates)\n",
    "\n",
    "# Dictionary to store distances for each file\n",
    "distances = {}\n",
    "\n",
    "# Iterate through log files, extract Ru coordinates, calculate distances, and store in dictionary\n",
    "for logfile in log_files:\n",
    "    ru_coordinates = find_ru_coordinates(logfile)\n",
    "    if ru_coordinates is not None:\n",
    "        dist = distance_from_origin(ru_coordinates)\n",
    "        distances[logfile] = dist\n",
    "\n",
    "# Sort log files based on numerical prefix and distances\n",
    "sorted_files = [file[0] for file in sorted(distances.items(), key=lambda x: (int(re.findall(r'\\d+', os.path.basename(x[0]))[0]), x[1]))]\n",
    "\n",
    "# Print sorted log files\n",
    "for file in sorted_files:\n",
    "    print(os.path.basename(file))"
   ]
  },
  {
   "attachments": {},
   "cell_type": "markdown",
   "metadata": {},
   "source": [
    "Regex to find the Banquo atom NICS readout and print zz_values"
   ]
  },
  {
   "cell_type": "code",
   "execution_count": 60,
   "metadata": {},
   "outputs": [
    {
     "name": "stdout",
     "output_type": "stream",
     "text": [
      "[-21.3152, -17.396, -21.1979]\n",
      "[-21.3152, -21.1979]\n",
      "[-17.396]\n",
      "-17.396\n"
     ]
    }
   ],
   "source": [
    "# Define the expression to match the log line\n",
    "\n",
    "# regex_pattern = r\"\\s*\\d+\\s+Bq\\s+Isotropic\\s+=\\s+-?\\d+\\.\\d+\\s+Anisotropy\\s+=\\s+\\d+\\.\\d+\\n\\s+XX=\\s+-?\\d+\\.\\d+\\s+YX=\\s+-?\\d+\\.\\d+\\s+ZX=\\s+-?\\d+\\.\\d+\\n\\s+XY=\\s+-?\\d+\\.\\d+\\s+YY=\\s+-?\\d+\\.\\d+\\s+ZY=\\s+-?\\d+\\.\\d+\\n\\s+XZ=\\s+-?\\d+\\.\\d+\\s+YZ=\\s+-?\\d+\\.\\d+\\s+ZZ=\\s+(-?\\d+\\.\\d+)\"\n",
    "regex_pattern = r\"\\s*\\d+\\s+Bq\\s+Isotropic\\s+=\\s+-?\\d+\\.\\d+\\s+.*\\n\\s+.*\\n\\s+.*\\n\\s+.*\\n\\s+.*\\n\\s+.*\\n\\s+.*\\n\\s+ZZ=\\s+(-?\\d+\\.\\d+)\"\n",
    "\n",
    "zz_list = []\n",
    "\n",
    "# Loop over each file name, extract the data and plot it\n",
    "for i, file in enumerate(sorted_files):\n",
    "\n",
    "    # Open the log file and read its contents\n",
    "    with open(file, \"r\") as f:\n",
    "        log_contents = f.read()\n",
    "\n",
    "    # Find all instances of the log line using the expression\n",
    "    matches = re.findall(regex_pattern, log_contents)\n",
    "\n",
    "    # Extract the ZZ values from the matches and store them in a list\n",
    "    zz_values = [-float(match) for match in matches]\n",
    "\n",
    "    zz_list.extend(zz_values)\n",
    "\n",
    "print(zz_list)\n",
    "print([zz_list[0], zz_list[-1]])\n",
    "del zz_list[0]\n",
    "del zz_list[-1]\n",
    "print(zz_list)\n",
    "print(round(sum(zz_list)/len(zz_list), 4))"
   ]
  }
 ],
 "metadata": {
  "kernelspec": {
   "display_name": "Python 3",
   "language": "python",
   "name": "python3"
  },
  "language_info": {
   "codemirror_mode": {
    "name": "ipython",
    "version": 3
   },
   "file_extension": ".py",
   "mimetype": "text/x-python",
   "name": "python",
   "nbconvert_exporter": "python",
   "pygments_lexer": "ipython3",
   "version": "3.10.9"
  },
  "orig_nbformat": 4
 },
 "nbformat": 4,
 "nbformat_minor": 2
}
